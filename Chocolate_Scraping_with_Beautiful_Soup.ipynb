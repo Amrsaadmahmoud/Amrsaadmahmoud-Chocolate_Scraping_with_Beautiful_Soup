{
 "cells": [
  {
   "cell_type": "code",
   "execution_count": 43,
   "metadata": {
    "collapsed": true
   },
   "outputs": [],
   "source": [
    "from bs4 import BeautifulSoup\n",
    "import requests\n",
    "import matplotlib.pyplot as plt\n",
    "import pandas as pd\n",
    "import numpy as np"
   ]
  },
  {
   "cell_type": "code",
   "execution_count": 9,
   "metadata": {
    "collapsed": true
   },
   "outputs": [],
   "source": [
    "webpage=requests.get('https://s3.amazonaws.com/codecademy-content/courses/beautifulsoup/cacao/index.html')"
   ]
  },
  {
   "cell_type": "code",
   "execution_count": 10,
   "metadata": {
    "collapsed": true
   },
   "outputs": [],
   "source": [
    "webpage_content=webpage.content\n",
    "soup=BeautifulSoup(webpage_content,\"html.parser\")"
   ]
  },
  {
   "cell_type": "code",
   "execution_count": 21,
   "metadata": {
    "collapsed": true
   },
   "outputs": [],
   "source": [
    "#rating data\n",
    "rate_data=soup.find_all(attrs={'class':'Rating'})\n",
    "ratings=[]\n",
    "for rating_data in rate_data[1:]:\n",
    "    ratings.append(float(rating_data.string))"
   ]
  },
  {
   "cell_type": "code",
   "execution_count": 22,
   "metadata": {},
   "outputs": [
    {
     "name": "stdout",
     "output_type": "stream",
     "text": [
      "[3.75, 2.75, 3.0, 3.5, 3.5, 2.75, 3.5, 3.5, 3.75, 4.0, 2.75, 3.0, 3.25, 3.75, 2.75, 3.0, 3.25, 4.0, 3.25, 3.5, 4.0, 3.5, 3.75, 3.75, 3.75, 2.75, 3.25, 3.5, 3.5, 2.75, 3.0, 3.0, 3.75, 2.75, 2.75, 2.75, 2.75, 3.0, 2.5, 2.5, 3.5, 3.5, 3.5, 3.5, 2.75, 3.0, 2.5, 2.5, 2.75, 2.5, 3.0, 3.25, 3.0, 3.25, 4.0, 3.75, 4.0, 3.0, 3.0, 2.75, 3.5, 3.0, 3.75, 3.0, 2.75, 2.75, 3.0, 3.25, 3.5, 3.0, 3.25, 3.25, 3.25, 3.25, 3.5, 3.75, 4.0, 4.0, 5.0, 3.0, 3.0, 3.5, 3.75, 4.0, 3.5, 3.5, 5.0, 4.0, 3.25, 2.75, 3.75, 3.75, 4.0, 3.0, 3.5, 3.0, 2.5, 2.75, 3.0, 3.5, 3.75, 3.5, 3.25, 3.25, 3.5, 3.75, 3.5, 4.0, 4.0, 3.75, 3.25, 3.25, 3.5, 3.5, 3.75, 3.5, 3.75, 4.0, 2.75, 3.25, 3.5, 3.25, 3.75, 4.0, 2.75, 1.75, 3.75, 3.25, 3.25, 3.5, 2.5, 2.75, 1.75, 3.0, 3.0, 3.25, 3.75, 2.75, 3.75, 3.75, 3.75, 3.75, 2.5, 3.0, 3.25, 3.5, 3.0, 2.5, 2.5, 2.75, 3.5, 3.5, 4.0, 3.25, 3.5, 3.75, 2.75, 3.5, 3.75, 3.25, 3.0, 3.25, 2.75, 2.75, 2.75, 2.75, 2.75, 2.75, 2.75, 3.5, 3.5, 3.25, 3.5, 2.75, 3.0, 3.5, 3.5, 3.5, 3.5, 4.0, 4.0, 3.75, 2.75, 3.0, 3.0, 3.5, 4.0, 3.25, 3.25, 3.5, 3.5, 2.5, 2.5, 2.5, 3.25, 3.5, 3.25, 3.75, 2.75, 3.0, 3.0, 3.0, 3.5, 3.25, 3.5, 3.0, 3.5, 3.75, 3.0, 2.75, 2.75, 3.0, 2.75, 3.5, 2.75, 3.5, 2.75, 3.5, 3.0, 3.5, 3.75, 3.5, 4.0, 3.25, 3.75, 3.5, 3.25, 3.5, 3.5, 3.5, 3.75, 4.0, 4.0, 3.5, 3.25, 3.0, 2.75, 3.0, 3.0, 4.0, 2.5, 3.75, 4.0, 4.0, 4.0, 1.5, 3.0, 4.0, 3.25, 1.5, 2.75, 2.75, 3.5, 3.75, 3.75, 3.75, 4.0, 3.0, 3.25, 3.5, 3.5, 3.0, 3.25, 3.5, 2.75, 3.25, 3.25, 3.0, 3.0, 3.5, 3.5, 2.75, 3.25, 2.75, 3.25, 3.5, 3.25, 3.25, 2.5, 2.5, 2.5, 2.5, 2.75, 2.25, 3.5, 3.0, 2.0, 2.0, 3.0, 3.5, 3.25, 2.5, 3.25, 3.5, 3.75, 3.25, 3.75, 3.75, 3.75, 3.5, 3.5, 2.75, 3.25, 3.5, 3.75, 3.0, 3.75, 3.25, 3.5, 3.5, 3.75, 4.0, 3.25, 3.5, 3.5, 4.0, 4.0, 3.0, 3.25, 3.5, 3.25, 3.5, 3.5, 2.5, 1.5, 2.75, 1.0, 2.5, 3.0, 3.5, 3.5, 3.0, 2.25, 2.5, 2.5, 2.75, 3.0, 3.0, 3.25, 2.0, 2.5, 2.75, 3.0, 3.25, 3.5, 3.5, 3.75, 3.5, 3.25, 3.5, 3.0, 2.75, 3.0, 3.25, 3.25, 3.5, 3.5, 4.0, 3.5, 3.75, 3.5, 3.5, 3.5, 2.75, 3.0, 3.5, 2.5, 3.25, 3.25, 2.75, 3.0, 2.5, 2.75, 2.75, 3.0, 2.75, 2.75, 3.25, 2.75, 3.0, 3.5, 3.5, 3.25, 3.0, 3.25, 2.75, 3.5, 2.5, 2.75, 2.5, 3.75, 3.75, 2.5, 2.5, 2.5, 2.75, 3.0, 3.0, 3.0, 3.25, 2.75, 2.75, 3.25, 3.5, 3.75, 3.75, 3.75, 3.75, 2.5, 2.75, 3.25, 2.5, 3.0, 3.25, 3.25, 3.5, 3.25, 3.25, 3.5, 2.5, 2.5, 3.0, 2.5, 2.5, 2.5, 2.75, 3.0, 3.0, 3.0, 2.75, 3.25, 3.75, 3.0, 2.75, 3.75, 3.0, 4.0, 1.0, 3.5, 3.0, 3.25, 2.75, 3.25, 3.75, 2.75, 3.5, 2.75, 3.25, 3.5, 1.5, 3.75, 3.5, 3.25, 3.0, 2.5, 3.0, 3.25, 3.25, 3.0, 3.25, 3.5, 3.75, 3.0, 3.0, 3.0, 1.0, 2.5, 2.75, 3.25, 3.25, 3.25, 3.25, 3.5, 3.25, 3.75, 2.75, 3.25, 2.75, 3.0, 3.5, 2.25, 2.75, 3.75, 3.0, 3.5, 3.5, 2.75, 3.75, 2.75, 3.25, 3.5, 3.5, 3.0, 3.25, 3.75, 3.25, 3.25, 3.25, 3.25, 3.0, 3.75, 3.75, 4.0, 3.25, 3.5, 3.0, 3.25, 2.75, 3.0, 3.25, 3.25, 3.0, 3.25, 3.0, 3.25, 2.5, 2.75, 2.75, 3.25, 3.5, 3.5, 2.5, 3.0, 2.5, 3.0, 3.0, 3.0, 3.0, 3.0, 3.0, 3.75, 2.5, 2.75, 3.5, 3.5, 3.75, 3.5, 3.75, 3.5, 3.25, 3.5, 2.75, 2.75, 2.75, 3.0, 2.75, 3.0, 3.25, 3.0, 3.25, 3.25, 3.5, 3.75, 3.0, 1.5, 3.75, 3.75, 3.0, 3.5, 3.75, 3.5, 3.0, 3.0, 3.0, 3.5, 3.75, 4.0, 3.25, 3.25, 3.5, 3.5, 3.75, 4.0, 4.0, 3.0, 3.25, 3.5, 2.75, 2.5, 2.75, 2.75, 4.0, 3.5, 3.75, 3.75, 3.75, 3.5, 3.0, 3.25, 3.5, 3.5, 3.75, 2.5, 3.75, 3.25, 2.75, 3.5, 3.5, 3.25, 3.25, 4.0, 3.25, 3.5, 3.75, 3.25, 3.25, 2.75, 3.0, 3.75, 2.75, 3.75, 2.75, 3.0, 2.5, 2.5, 3.0, 2.75, 2.75, 3.25, 3.0, 3.5, 3.25, 3.25, 3.25, 3.0, 3.25, 2.75, 2.0, 3.5, 2.75, 3.0, 2.5, 2.5, 2.5, 2.75, 2.5, 3.0, 3.5, 3.75, 2.75, 3.0, 2.5, 2.75, 3.5, 2.0, 3.0, 3.0, 3.0, 3.5, 4.0, 2.25, 3.0, 3.25, 2.5, 2.75, 2.75, 2.75, 2.75, 3.5, 3.75, 3.5, 3.75, 3.75, 3.5, 3.5, 3.5, 3.0, 3.5, 3.5, 3.5, 3.5, 3.0, 3.25, 3.5, 2.5, 3.5, 2.0, 3.5, 3.5, 3.0, 3.5, 3.5, 3.5, 3.25, 3.75, 3.75, 4.0, 3.5, 3.5, 4.0, 4.0, 3.0, 2.75, 3.25, 3.5, 3.5, 2.75, 3.25, 3.0, 3.25, 4.0, 2.75, 3.0, 3.25, 3.5, 3.5, 3.0, 3.25, 3.5, 3.25, 3.5, 3.25, 3.25, 3.25, 3.75, 3.25, 3.5, 3.5, 3.75, 4.0, 3.75, 3.0, 3.75, 3.0, 2.5, 3.25, 3.0, 2.5, 3.25, 4.0, 3.5, 3.5, 3.5, 3.5, 3.0, 2.75, 3.25, 3.25, 3.0, 2.5, 3.5, 3.25, 2.75, 2.5, 3.0, 3.0, 3.0, 3.0, 3.25, 3.75, 2.75, 2.75, 3.25, 3.5, 2.75, 3.25, 3.25, 3.0, 3.0, 3.0, 3.5, 3.0, 3.0, 3.5, 3.5, 3.0, 2.5, 3.5, 3.5, 3.5, 3.0, 2.75, 2.75, 3.25, 3.5, 2.75, 3.0, 3.0, 3.25, 2.0, 2.5, 2.75, 3.0, 3.0, 3.25, 3.0, 3.5, 3.5, 2.75, 3.25, 3.5, 3.5, 3.0, 3.75, 3.75, 3.5, 3.5, 3.5, 3.75, 4.0, 2.75, 3.5, 2.75, 3.0, 3.0, 3.25, 3.25, 2.75, 2.75, 3.25, 3.5, 2.0, 2.5, 3.0, 3.25, 3.5, 2.75, 3.5, 3.5, 3.5, 3.5, 2.5, 2.75, 3.5, 3.75, 2.5, 2.75, 4.0, 1.75, 3.0, 3.5, 3.0, 3.0, 3.5, 2.75, 2.5, 2.75, 3.5, 3.0, 3.0, 3.25, 2.75, 3.0, 2.75, 3.0, 2.5, 2.75, 3.0, 3.5, 3.0, 3.0, 3.0, 3.75, 3.5, 3.25, 3.75, 3.75, 3.75, 3.75, 3.25, 3.75, 4.0, 3.5, 4.0, 4.0, 4.0, 2.5, 3.25, 2.75, 3.0, 2.75, 3.0, 3.5, 2.25, 3.25, 3.25, 3.5, 2.75, 2.0, 2.75, 3.5, 3.5, 4.0, 3.5, 3.0, 3.25, 3.25, 2.5, 3.75, 3.0, 3.5, 2.75, 2.5, 2.75, 3.0, 2.5, 3.0, 2.75, 2.75, 3.75, 2.0, 3.0, 2.5, 2.75, 3.0, 3.25, 3.25, 3.25, 3.25, 3.25, 2.75, 3.75, 3.75, 2.5, 3.0, 2.5, 3.0, 3.25, 4.0, 3.75, 3.75, 3.25, 3.75, 3.0, 3.5, 3.0, 2.25, 2.5, 3.0, 3.0, 2.75, 3.25, 3.25, 3.5, 3.5, 3.25, 3.5, 3.0, 3.75, 3.5, 2.5, 3.25, 2.75, 2.75, 3.0, 3.25, 3.0, 3.5, 3.25, 3.75, 2.75, 2.75, 3.5, 2.5, 3.5, 3.0, 3.0, 3.0, 3.5, 3.25, 3.25, 3.25, 3.5, 3.0, 3.25, 3.5, 3.5, 3.5, 3.0, 3.5, 3.5, 3.75, 2.75, 3.0, 3.5, 3.0, 2.5, 3.75, 3.25, 3.75, 3.0, 3.0, 3.5, 2.0, 2.75, 3.0, 3.0, 3.5, 1.5, 2.25, 3.5, 3.75, 4.0, 3.5, 3.5, 2.75, 3.5, 2.75, 2.75, 3.25, 3.25, 3.5, 2.5, 2.75, 2.75, 2.0, 3.0, 3.25, 3.75, 2.0, 2.75, 3.5, 3.5, 3.5, 2.75, 3.0, 2.5, 2.5, 2.75, 3.75, 2.75, 3.5, 3.75, 3.75, 3.25, 2.75, 3.0, 3.25, 3.75, 3.5, 3.75, 3.5, 3.25, 3.5, 3.25, 3.25, 3.5, 3.5, 3.5, 2.75, 3.5, 3.5, 2.75, 3.0, 3.5, 3.0, 2.75, 3.0, 3.25, 3.25, 3.5, 3.75, 3.5, 3.5, 3.5, 3.5, 3.5, 3.0, 3.5, 3.0, 3.0, 3.25, 3.5, 2.25, 2.5, 2.75, 3.0, 3.25, 3.0, 3.25, 3.75, 3.5, 2.5, 2.75, 3.5, 3.0, 3.0, 2.75, 3.5, 2.75, 3.0, 3.25, 3.75, 2.75, 3.0, 3.25, 3.5, 4.0, 4.0, 3.75, 3.25, 3.25, 3.25, 3.5, 3.0, 2.5, 2.75, 3.0, 3.0, 3.5, 2.5, 2.5, 2.75, 3.0, 3.25, 3.5, 3.25, 3.5, 3.0, 3.5, 3.5, 3.75, 3.5, 3.5, 2.0, 2.0, 3.0, 4.0, 4.0, 4.0, 2.0, 3.5, 3.5, 3.75, 3.75, 3.25, 3.5, 2.5, 3.25, 1.5, 2.0, 2.5, 2.5, 3.5, 2.75, 2.75, 3.5, 3.75, 3.5, 2.5, 3.25, 3.0, 2.75, 3.0, 2.75, 3.25, 2.75, 2.75, 3.25, 3.5, 3.25, 3.25, 3.5, 3.5, 3.5, 3.5, 2.75, 2.75, 2.75, 3.0, 2.5, 3.0, 3.75, 3.75, 2.5, 3.25, 2.75, 3.0, 3.5, 2.25, 2.5, 2.5, 3.5, 2.5, 3.75, 1.0, 2.0, 2.75, 3.0, 2.25, 2.75, 3.0, 3.0, 2.75, 3.5, 3.0, 3.0, 3.25, 3.0, 3.0, 3.0, 2.75, 3.25, 3.75, 2.75, 3.0, 3.5, 3.75, 3.5, 2.5, 3.75, 3.75, 3.75, 4.0, 2.75, 3.5, 2.75, 3.0, 3.25, 3.5, 2.75, 3.0, 3.5, 3.0, 3.0, 2.75, 3.0, 2.0, 2.75, 2.75, 3.0, 2.75, 3.75, 3.0, 3.5, 2.75, 2.75, 2.75, 3.0, 3.0, 2.75, 3.25, 3.75, 3.0, 3.0, 3.25, 3.0, 3.0, 3.0, 3.0, 4.0, 3.25, 3.5, 3.75, 4.0, 2.75, 4.0, 3.5, 2.5, 2.75, 3.0, 2.0, 3.5, 2.75, 3.0, 3.25, 3.25, 3.5, 3.75, 2.75, 3.75, 2.75, 3.5, 3.75, 3.0, 3.5, 3.25, 3.5, 3.0, 3.5, 2.5, 2.75, 3.75, 4.0, 3.5, 3.5, 4.0, 4.0, 2.25, 2.75, 3.0, 3.25, 3.0, 3.25, 3.75, 3.0, 3.0, 3.0, 4.0, 3.75, 4.0, 3.5, 4.0, 3.0, 4.0, 2.5, 2.5, 2.75, 2.75, 2.75, 3.25, 3.25, 2.5, 3.25, 3.5, 2.5, 2.75, 3.75, 3.75, 3.5, 3.0, 2.75, 3.5, 3.75, 3.25, 3.25, 3.5, 2.0, 3.0, 3.0, 2.0, 3.5, 4.0, 3.0, 3.5, 3.5, 3.5, 3.75, 3.5, 3.5, 4.0, 3.0, 3.0, 3.25, 3.5, 4.0, 3.0, 3.0, 3.5, 3.5, 3.5, 3.5, 2.75, 2.75, 3.0, 3.25, 2.75, 2.75, 3.25, 3.5, 2.75, 3.25, 3.0, 3.25, 2.75, 3.0, 3.0, 2.75, 3.25, 3.5, 2.75, 3.0, 2.5, 3.25, 3.5, 3.25, 2.5, 3.25, 2.5, 3.0, 3.5, 3.75, 3.75, 3.5, 3.5, 3.75, 3.0, 4.0, 3.25, 3.5, 3.5, 3.25, 3.25, 3.25, 3.25, 3.25, 3.5, 3.75, 3.75, 3.25, 3.75, 3.5, 3.5, 4.0, 3.75, 3.75, 3.0, 3.75, 3.5, 2.75, 2.75, 2.75, 3.0, 2.5, 2.25, 2.5, 3.5, 2.5, 3.5, 2.75, 3.5, 1.5, 3.0, 3.5, 3.5, 2.75, 3.25, 3.5, 3.5, 3.5, 3.5, 2.75, 3.0, 2.0, 3.0, 4.0, 2.75, 4.0, 3.75, 3.5, 3.75, 3.75, 4.0, 3.75, 3.0, 3.0, 3.0, 3.75, 3.0, 2.0, 3.5, 2.0, 2.0, 3.0, 2.75, 2.75, 3.25, 3.5, 2.75, 3.5, 3.0, 3.25, 2.0, 2.5, 3.25, 3.5, 3.25, 3.5, 2.5, 3.0, 3.25, 3.25, 3.0, 3.5, 3.5, 3.75, 3.0, 3.0, 3.0, 3.25, 3.25, 3.75, 3.75, 3.75, 2.75, 3.0, 3.5, 3.75, 4.0, 3.75, 3.0, 3.75, 3.25, 3.25, 3.5, 3.75, 3.75, 4.0, 2.75, 3.5, 3.0, 3.75, 1.5, 3.0, 3.25, 3.5, 3.0, 2.75, 2.75, 3.25, 3.25, 3.0, 3.0, 3.0, 3.25, 3.25, 3.5, 3.5, 3.5, 3.5, 3.75, 3.75, 4.0, 3.25, 3.5, 4.0, 3.5, 3.75, 3.25, 3.5, 3.75, 3.25, 3.75, 3.25, 2.75, 3.75, 3.25, 3.75, 4.0, 4.0, 4.0, 3.25, 4.0, 3.25, 3.75, 4.0, 4.0, 3.5, 3.75, 3.5, 3.5, 2.75, 3.5, 4.0, 4.0, 3.75, 3.5, 3.75, 3.0, 3.5, 3.0, 3.5, 3.75, 3.75, 3.25, 3.5, 3.25, 3.5, 3.5, 3.25, 3.25, 3.5, 3.0, 3.0, 3.25, 3.75, 3.5, 2.75, 3.5, 3.75, 3.75, 2.75, 3.0, 3.0, 2.25, 3.0, 3.0, 3.0, 3.0, 3.0, 2.75, 3.25, 3.5, 3.5, 2.5, 2.5, 2.75, 2.75, 3.25, 2.5, 3.0, 2.75, 3.0, 2.75, 3.25, 3.25, 3.25, 3.75, 3.25, 3.5, 3.5, 3.75, 3.5, 3.5, 3.25, 3.25, 3.25, 3.75, 3.0, 2.75, 2.75, 2.5, 3.0, 3.0, 3.25, 3.25, 2.75, 3.25, 3.0, 3.25, 2.75, 3.0, 2.0, 3.25, 2.75, 3.0, 2.5, 2.5, 2.75, 2.5, 2.75, 3.0, 3.0, 3.5, 3.25, 2.0, 3.25, 2.75, 3.0, 3.25, 2.75, 3.0, 3.25, 3.5, 2.75, 3.75, 3.75, 3.25, 3.5, 3.75, 3.25, 3.75, 3.75, 3.0, 3.25, 3.5, 2.5, 3.0, 2.0, 3.0, 3.25, 3.75, 3.25, 4.0, 3.0, 2.75, 3.0, 3.0, 3.5, 2.75, 3.5, 3.5, 3.25, 2.5, 2.75, 3.0, 3.75, 2.75, 3.0, 3.0, 3.25, 3.25, 4.0, 3.5, 3.5, 4.0, 3.25, 4.0, 3.75, 3.75, 3.5, 3.0, 3.75, 4.0, 1.5, 2.5, 2.75, 3.25, 3.0, 4.0, 2.5, 3.0, 3.5, 2.5, 2.75, 2.75, 2.75, 2.75, 3.0, 3.0, 3.25, 3.25, 3.25, 3.25, 3.5, 3.5, 3.75, 3.25, 3.5, 3.0, 2.0, 2.0, 3.0, 3.0, 2.75, 3.0, 3.0, 3.25, 2.75, 2.5, 2.5, 3.0, 3.5, 3.5, 2.5, 2.5, 2.75, 3.25, 2.75, 4.0, 3.0, 2.25, 3.0, 3.5, 3.75, 3.0, 3.25, 3.0, 3.5, 3.75, 3.0, 3.25, 3.5, 2.5, 3.0, 3.25, 4.0, 3.5, 3.0, 2.75, 2.5, 3.0, 3.25, 3.25, 3.25, 3.5, 3.0, 3.5, 2.75, 2.75, 3.0, 3.5, 3.5, 3.75, 3.25, 3.5, 3.5, 3.75, 2.75, 3.5, 3.5, 3.0, 3.5, 3.75, 3.0, 3.0, 3.25, 3.75, 3.25, 3.5, 3.75, 3.0, 3.5, 3.25, 3.0]\n"
     ]
    }
   ],
   "source": [
    "print(ratings)"
   ]
  },
  {
   "cell_type": "code",
   "execution_count": 24,
   "metadata": {},
   "outputs": [
    {
     "data": {
      "image/png": "[encoded data removed]",
      "text/plain": [
       "<matplotlib.figure.Figure at 0x2140ac68940>"
      ]
     },
     "metadata": {},
     "output_type": "display_data"
    }
   ],
   "source": [
    "#create a histogram of the ratings values\n",
    "plt.hist(ratings)\n",
    "plt.show()"
   ]
  },
  {
   "cell_type": "markdown",
   "metadata": {},
   "source": [
    "***Which chocolatier makes the best chocolate?***"
   ]
  },
  {
   "cell_type": "code",
   "execution_count": 25,
   "metadata": {
    "collapsed": true
   },
   "outputs": [],
   "source": [
    "company_data=soup.select(\".Company\")\n",
    "company_name=[]\n",
    "for company in company_data[1:]:\n",
    "    company_name.append(company.string)"
   ]
  },
  {
   "cell_type": "code",
   "execution_count": 26,
   "metadata": {},
   "outputs": [
    {
     "name": "stdout",
     "output_type": "stream",
     "text": [
      "['A. Morin', 'A. Morin', 'A. Morin', 'A. Morin', 'A. Morin', 'A. Morin', 'A. Morin', 'A. Morin', 'A. Morin', 'A. Morin', 'A. Morin', 'A. Morin', 'A. Morin', 'A. Morin', 'A. Morin', 'A. Morin', 'A. Morin', 'A. Morin', 'A. Morin', 'A. Morin', 'A. Morin', 'A. Morin', 'A. Morin', 'Acalli', 'Acalli', 'Adi', 'Adi', 'Adi', 'Adi', 'Aequare (Gianduja)', 'Aequare (Gianduja)', 'Ah Cacao', \"Akesson's (Pralus)\", \"Akesson's (Pralus)\", \"Akesson's (Pralus)\", 'Alain Ducasse', 'Alain Ducasse', 'Alain Ducasse', 'Alain Ducasse', 'Alain Ducasse', 'Alexandre', 'Alexandre', 'Alexandre', 'Alexandre', 'Altus aka Cao Artisan', 'Altus aka Cao Artisan', 'Altus aka Cao Artisan', 'Altus aka Cao Artisan', 'Altus aka Cao Artisan', 'Altus aka Cao Artisan', 'Altus aka Cao Artisan', 'Altus aka Cao Artisan', 'Altus aka Cao Artisan', 'Altus aka Cao Artisan', 'Amano', 'Amano', 'Amano', 'Amano', 'Amano', 'Amano', 'Amano', 'Amano', 'Amano', 'Amatller (Simon Coll)', 'Amatller (Simon Coll)', 'Amatller (Simon Coll)', 'Amatller (Simon Coll)', 'Amazona', 'Amazona', 'Ambrosia', 'Ambrosia', 'Ambrosia', 'Ambrosia', 'Ambrosia', 'Ambrosia', 'Amedei', 'Amedei', 'Amedei', 'Amedei', 'Amedei', 'Amedei', 'Amedei', 'Amedei', 'Amedei', 'Amedei', 'Amedei', 'Amedei', 'Amedei', 'AMMA', 'AMMA', 'AMMA', 'AMMA', 'AMMA', 'Anahata', 'Animas', 'Ara', 'Ara', 'Ara', 'Ara', 'Arete', 'Arete', 'Arete', 'Arete', 'Arete', 'Arete', 'Arete', 'Arete', 'Arete', 'Arete', 'Arete', 'Arete', 'Arete', 'Arete', 'Arete', 'Arete', 'Arete', 'Arete', 'Arete', 'Arete', 'Arete', 'Arete', 'Artisan du Chocolat', 'Artisan du Chocolat', 'Artisan du Chocolat', 'Artisan du Chocolat', 'Artisan du Chocolat', 'Artisan du Chocolat', 'Artisan du Chocolat', 'Artisan du Chocolat', 'Artisan du Chocolat', 'Artisan du Chocolat', 'Artisan du Chocolat', 'Artisan du Chocolat', 'Artisan du Chocolat', 'Artisan du Chocolat', 'Artisan du Chocolat', 'Artisan du Chocolat', 'Artisan du Chocolat (Casa Luker)', 'Askinosie', 'Askinosie', 'Askinosie', 'Askinosie', 'Askinosie', 'Askinosie', 'Bahen & Co.', 'Bahen & Co.', 'Bahen & Co.', 'Bahen & Co.', 'Bahen & Co.', 'Bakau', 'Bakau', 'Bar Au Chocolat', 'Bar Au Chocolat', 'Bar Au Chocolat', 'Bar Au Chocolat', 'Bar Au Chocolat', \"Baravelli's\", 'Batch', 'Batch', 'Batch', 'Beau Cacao', 'Beau Cacao', 'Beehive', 'Beehive', 'Beehive', 'Beehive', 'Belcolade', 'Belcolade', 'Belcolade', 'Belcolade', 'Bellflower', 'Bellflower', 'Bellflower', 'Belyzium', 'Belyzium', 'Belyzium', 'Benoit Nihant', 'Benoit Nihant', 'Benoit Nihant', 'Benoit Nihant', 'Benoit Nihant', 'Benoit Nihant', 'Bernachon', 'Beschle (Felchlin)', 'Beschle (Felchlin)', 'Beschle (Felchlin)', 'Beschle (Felchlin)', 'Beschle (Felchlin)', 'Beschle (Felchlin)', 'Beschle (Felchlin)', 'Beschle (Felchlin)', 'Bisou', 'Bisou', 'Bisou', 'Bisou', 'Bittersweet Origins', 'Bittersweet Origins', 'Bittersweet Origins', 'Bittersweet Origins', 'Bittersweet Origins', 'Bittersweet Origins', 'Bittersweet Origins', 'Bittersweet Origins', 'Bittersweet Origins', 'Bittersweet Origins', 'Bittersweet Origins', 'Bittersweet Origins', 'Bittersweet Origins', 'Bittersweet Origins', 'Black Mountain', 'Black Mountain', 'Black Mountain', 'Black River (A. Morin)', 'Blanxart', 'Blanxart', 'Blue Bandana', 'Blue Bandana', 'Blue Bandana', 'Blue Bandana', 'Blue Bandana', 'Blue Bandana', 'Bonnat', 'Bonnat', 'Bonnat', 'Bonnat', 'Bonnat', 'Bonnat', 'Bonnat', 'Bonnat', 'Bonnat', 'Bonnat', 'Bonnat', 'Bonnat', 'Bonnat', 'Bonnat', 'Bonnat', 'Bonnat', 'Bonnat', 'Bonnat', 'Bonnat', 'Bonnat', 'Bonnat', 'Bonnat', 'Bonnat', 'Bonnat', 'Bonnat', 'Bonnat', 'Bonnat', 'Bouga Cacao (Tulicorp)', 'Bouga Cacao (Tulicorp)', 'Bowler Man', 'Bowler Man', \"Brasstown aka It's Chocolate\", \"Brasstown aka It's Chocolate\", \"Brasstown aka It's Chocolate\", \"Brasstown aka It's Chocolate\", \"Brasstown aka It's Chocolate\", \"Brasstown aka It's Chocolate\", \"Brasstown aka It's Chocolate\", \"Brasstown aka It's Chocolate\", \"Brasstown aka It's Chocolate\", 'Brazen', 'Brazen', 'Brazen', 'Brazen', 'Brazen', 'Brazen', 'Breeze Mill', 'Bright', 'Bright', 'Bright', 'Bright', 'Britarev', 'Bronx Grrl Chocolate', 'Burnt Fork Bend', 'Burnt Fork Bend', 'Burnt Fork Bend', 'Burnt Fork Bend', 'Burnt Fork Bend', 'Cacao Arabuco', 'Cacao Atlanta', 'Cacao Atlanta', 'Cacao Atlanta', 'Cacao Atlanta', 'Cacao Barry', 'Cacao Barry', 'Cacao Barry', 'Cacao Barry', 'Cacao Barry', 'Cacao de Origen', 'Cacao de Origen', 'Cacao de Origen', 'Cacao de Origen', 'Cacao de Origen', 'Cacao de Origen', 'Cacao de Origin', 'Cacao Hunters', 'Cacao Hunters', 'Cacao Hunters', 'Cacao Hunters', 'Cacao Hunters', 'Cacao Hunters', 'Cacao Hunters', 'Cacao Market', 'Cacao Prieto', 'Cacao Prieto', 'Cacao Prieto', 'Cacao Prieto', 'Cacao Sampaka', 'Cacao Sampaka', 'Cacao Sampaka', 'Cacao Sampaka', 'Cacao Sampaka', 'Cacao Sampaka', 'Cacao Sampaka', 'Cacao Sampaka', 'Cacao Sampaka', 'Cacao Store', 'Cacao Store', 'Cacao Store', 'Cacaosuyo (Theobroma Inversiones)', 'Cacaoyere (Ecuatoriana)', 'Cacaoyere (Ecuatoriana)', 'Cacaoyere (Ecuatoriana)', 'Cacaoyere (Ecuatoriana)', 'Callebaut', 'Callebaut', 'C-Amaro', 'C-Amaro', 'C-Amaro', 'C-Amaro', 'C-Amaro', 'C-Amaro', 'C-Amaro', 'Cao', 'Cao', 'Cao', 'Cao', 'Cao', 'Caoni (Tulicorp)', 'Caoni (Tulicorp)', 'Caoni (Tulicorp)', 'Caoni (Tulicorp)', 'Caoni (Tulicorp)', 'Caoni (Tulicorp)', 'Captain Pembleton', 'Captain Pembleton', 'Caribeans', 'Caribeans', 'Caribeans', 'Caribeans', 'Caribeans', 'Carlotta Chocolat', 'Carlotta Chocolat', 'Carlotta Chocolat', 'Carlotta Chocolat', 'Carlotta Chocolat', 'Castronovo', 'Castronovo', 'Castronovo', 'Castronovo', 'Castronovo', 'Castronovo', 'Castronovo', 'Castronovo', 'Castronovo', 'Castronovo', 'Castronovo', 'Castronovo', 'Castronovo', 'Castronovo', 'Cello', 'Cello', 'Cello', 'Cello', 'Cemoi', 'Chaleur B', 'Charm School', 'Chchukululu (Tulicorp)', 'Chchukululu (Tulicorp)', 'Chequessett', 'Chloe Chocolat', 'Chocablog', 'Choco Del Sol', 'Choco Del Sol', 'Choco Dong', 'Choco Dong', 'Chocolarder', 'Chocolarder', 'Chocolarder', \"Chocola'te\", \"Chocola'te\", 'Chocolate Alchemist-Philly', 'Chocolate Alchemist-Philly', 'Chocolate Con Amor', 'Chocolate Con Amor', 'Chocolate Con Amor', 'Chocolate Con Amor', 'Chocolate Con Amor', 'Chocolate Con Amor', 'Chocolate Con Amor', 'Chocolate Conspiracy', 'Chocolate Makers', 'Chocolate Makers', 'Chocolate Makers', 'Chocolate Tree, The', 'Chocolate Tree, The', 'Chocolate Tree, The', 'Chocolate Tree, The', 'Chocolate Tree, The', 'Chocolate Tree, The', 'Chocolats Privilege', 'ChocoReko', 'Chocosol', 'Chocovic', 'Chocovic', 'Chocovic', 'Chocovic', 'Chocovic', 'Chocovic', 'Chocovic', 'Chocovic', 'Chocovivo', 'Chocovivo', 'Choklat', 'Choklat', 'Choklat', 'Choklat', 'Choklat', 'Chokolat Elot (Girard)', 'Choocsol', 'Christopher Morel (Felchlin)', 'Chuao Chocolatier', 'Chuao Chocolatier (Pralus)', 'Claudio Corallo', 'Claudio Corallo', 'Claudio Corallo', 'Claudio Corallo', 'Cloudforest', 'Coleman & Davis', 'Compania de Chocolate (Salgado)', 'Compania de Chocolate (Salgado)', 'Compania de Chocolate (Salgado)', 'Compania de Chocolate (Salgado)', 'Compania de Chocolate (Salgado)', 'Condor', 'Confluence', 'Coppeneur', 'Coppeneur', 'Coppeneur', 'Coppeneur', 'Coppeneur', 'Coppeneur', 'Coppeneur', 'Coppeneur', 'Coppeneur', 'Coppeneur', 'Coppeneur', 'Coppeneur', 'Coppeneur', 'Coppeneur', 'Coppeneur', 'Coppeneur', 'Coppeneur', 'Coppeneur', \"Cote d' Or (Kraft)\", 'Cravve', 'Cravve', 'Cravve', 'Cravve', 'Cravve', 'Cravve', 'Cravve', 'Creo', 'Creo', 'Daintree', 'Daintree', 'Dalloway', 'Damson', 'Damson', 'Damson', 'Damson', 'Dandelion', 'Dandelion', 'Dandelion', 'Dandelion', 'Dandelion', 'Dandelion', 'Dandelion', 'Dandelion', 'Dandelion', 'Dandelion', 'Dandelion', 'Dandelion', 'Dandelion', 'Dandelion', 'Dandelion', 'Dandelion', 'Danta', 'Danta', 'Danta', 'Danta', 'Danta', 'Danta', 'Danta', 'Danta', 'Danta', 'DAR', 'DAR', 'DAR', 'Dark Forest', 'Dark Forest', 'Dark Forest', 'Dark Forest', 'Dark Forest', 'Davis', 'Davis', 'Davis', 'Davis', 'De Mendes', 'De Mendes', 'De Villiers', 'De Villiers', 'Dean and Deluca (Belcolade)', 'Dean and Deluca (Belcolade)', 'Dean and Deluca (Belcolade)', 'Dean and Deluca (Belcolade)', 'Dean and Deluca (Belcolade)', 'Dean and Deluca (Belcolade)', 'Debauve & Gallais (Michel Cluizel)', 'Debauve & Gallais (Michel Cluizel)', 'Desbarres', 'DeVries', 'DeVries', 'DeVries', 'Dick Taylor', 'Dick Taylor', 'Dick Taylor', 'Dick Taylor', 'Dick Taylor', 'Dick Taylor', 'Dick Taylor', 'Dick Taylor', 'Dick Taylor', 'Dick Taylor', 'Dick Taylor', 'Dick Taylor', 'Dick Taylor', 'Doble & Bignall', 'Doble & Bignall', 'Doble & Bignall', 'Doble & Bignall', 'Dole (Guittard)', 'Dolfin (Belcolade)', 'Dolfin (Belcolade)', 'Domori', 'Domori', 'Domori', 'Domori', 'Domori', 'Domori', 'Domori', 'Domori', 'Domori', 'Domori', 'Domori', 'Domori', 'Domori', 'Domori', 'Domori', 'Domori', 'Domori', 'Domori', 'Domori', 'Domori', 'Domori', 'Domori', 'Dormouse', 'Dormouse', 'Dormouse', 'Dormouse', \"Duffy's\", \"Duffy's\", \"Duffy's\", \"Duffy's\", \"Duffy's\", \"Duffy's\", \"Duffy's\", \"Duffy's\", \"Duffy's\", \"Duffy's\", \"Duffy's\", \"Duffy's\", \"Duffy's\", 'Dulcinea', 'Durand', 'Durci', 'Durci', 'Durci', 'Durci', 'Durci', 'East Van Roasters', 'East Van Roasters', 'East Van Roasters', 'Eau de Rose', 'Eau de Rose', 'Eclat (Felchlin)', 'Edelmond', 'El Ceibo', 'El Ceibo', 'El Rey', 'El Rey', 'El Rey', 'El Rey', 'El Rey', 'El Rey', 'El Rey', 'Emerald Estate', 'Emerald Estate', \"Emily's\", \"Emily's\", 'ENNA', 'Enric Rovira (Claudio Corallo)', 'Erithaj (A. Morin)', 'Erithaj (A. Morin)', 'Erithaj (A. Morin)', 'Escazu', 'Escazu', 'Escazu', 'Escazu', 'Escazu', \"Ethel's Artisan (Mars)\", \"Ethel's Artisan (Mars)\", \"Ethel's Artisan (Mars)\", \"Ethel's Artisan (Mars)\", \"Ethel's Artisan (Mars)\", 'Ethereal', 'Ethereal', 'Ethereal', 'Fearless (AMMA)', 'Feitoria Cacao', 'Feitoria Cacao', 'Feitoria Cacao', 'Felchlin', 'Felchlin', 'Felchlin', 'Felchlin', 'Felchlin', 'Felchlin', 'Felchlin', 'Finca', 'Finca', 'Finca', 'Finca', 'Forever Cacao', 'Forteza (Cortes)', 'Forteza (Cortes)', 'Fossa', 'Fossa', 'Fossa', 'Franceschi', 'Franceschi', 'Franceschi', 'Franceschi', 'Frederic Blondeel', 'Frederic Blondeel', 'Frederic Blondeel', 'Frederic Blondeel', 'Frederic Blondeel', 'French Broad', 'French Broad', 'French Broad', 'French Broad', 'French Broad', 'French Broad', 'French Broad', 'French Broad', 'French Broad', 'French Broad', 'Fresco', 'Fresco', 'Fresco', 'Fresco', 'Fresco', 'Fresco', 'Fresco', 'Fresco', 'Fresco', 'Fresco', 'Fresco', 'Fresco', 'Fresco', 'Fresco', 'Fresco', 'Fresco', 'Fresco', 'Fresco', 'Fresco', 'Fresco', 'Fresco', 'Fresco', 'Fresco', 'Fresco', 'Fresco', 'Fresco', 'Friis Holm', 'Friis Holm (Bonnat)', 'Friis Holm (Bonnat)', 'Friis Holm (Bonnat)', 'Friis Holm (Bonnat)', 'Friis Holm (Bonnat)', 'Friis Holm (Bonnat)', 'Friis Holm (Bonnat)', 'Friis Holm (Bonnat)', 'Friis Holm (Bonnat)', 'Friis Holm (Bonnat)', 'Friis Holm (Bonnat)', 'Friis Holm (Bonnat)', 'Fruition', 'Fruition', 'Fruition', 'Fruition', 'Fruition', 'Fruition', 'Fruition', 'Fruition', 'Fruition', 'Garden Island', 'Georgia Ramon', 'Georgia Ramon', 'Georgia Ramon', 'Georgia Ramon', 'Georgia Ramon', 'Glennmade', 'Glennmade', 'Goodnow Farms', 'Goodnow Farms', 'Goodnow Farms', 'Grand Place', \"Green & Black's (ICAM)\", 'Green Bean to Bar', 'Grenada Chocolate Co.', 'Grenada Chocolate Co.', 'Grenada Chocolate Co.', 'Guido Castagna', 'Guido Castagna', 'Guido Castagna', 'Guido Castagna', 'Guido Castagna', 'Guittard', 'Guittard', 'Guittard', 'Guittard', 'Guittard', 'Guittard', 'Guittard', 'Guittard', 'Guittard', 'Guittard', 'Guittard', 'Guittard', 'Guittard', 'Guittard', 'Guittard', 'Guittard', 'Guittard', 'Guittard', 'Guittard', 'Guittard', 'Guittard', 'Guittard', 'Habitual', 'Habitual', 'Habitual', 'Habitual', 'Habitual', 'Habitual', 'Habitual', 'Habitual', 'Habitual', 'Hachez', 'Hacienda El Castillo', 'Hacienda El Castillo', 'Haigh', 'Harper Macaw', 'Harper Macaw', 'Harper Macaw', 'Harper Macaw', 'Heilemann', 'Heirloom Cacao Preservation (Brasstown)', 'Heirloom Cacao Preservation (Fruition)', 'Heirloom Cacao Preservation (Guittard)', 'Heirloom Cacao Preservation (Guittard)', 'Heirloom Cacao Preservation (Guittard)', 'Heirloom Cacao Preservation (Guittard)', 'Heirloom Cacao Preservation (Manoa)', 'Heirloom Cacao Preservation (Millcreek)', 'Heirloom Cacao Preservation (Mindo)', 'Heirloom Cacao Preservation (Zokoko)', 'Heirloom Cacao Preservation (Zokoko)', 'hello cocoa', 'hello cocoa', 'hexx', 'hexx', 'hexx', 'hexx', 'hexx', 'Hogarth', 'Hogarth', 'Hogarth', 'Hogarth', 'Hoja Verde (Tulicorp)', 'Hoja Verde (Tulicorp)', 'Hoja Verde (Tulicorp)', 'Hoja Verde (Tulicorp)', 'Hoja Verde (Tulicorp)', 'Holy Cacao', 'Holy Cacao', 'Holy Cacao', 'Holy Cacao', 'Holy Cacao', 'Holy Cacao', 'Holy Cacao', 'Holy Cacao', 'Holy Cacao', 'Honest', 'Hotel Chocolat', 'Hotel Chocolat', 'Hotel Chocolat', 'Hotel Chocolat (Coppeneur)', 'Hotel Chocolat (Coppeneur)', 'Hotel Chocolat (Coppeneur)', 'Hotel Chocolat (Coppeneur)', 'Hotel Chocolat (Coppeneur)', 'Hotel Chocolat (Coppeneur)', 'Hotel Chocolat (Coppeneur)', 'Hotel Chocolat (Coppeneur)', 'Hotel Chocolat (Coppeneur)', 'Hotel Chocolat (Coppeneur)', 'Hotel Chocolat (Coppeneur)', 'Hotel Chocolat (Coppeneur)', 'Hotel Chocolat (Coppeneur)', 'Hotel Chocolat (Coppeneur)', 'Hotel Chocolat (Coppeneur)', 'Hotel Chocolat (Coppeneur)', 'Hotel Chocolat (Coppeneur)', 'Hotel Chocolat (Coppeneur)', 'Hotel Chocolat (Coppeneur)', 'Hummingbird', 'Hummingbird', 'Hummingbird', 'Hummingbird', 'Hummingbird', 'Hummingbird', 'Hummingbird', 'Hummingbird', 'Idilio (Felchlin)', 'Idilio (Felchlin)', 'Idilio (Felchlin)', 'Idilio (Felchlin)', 'Idilio (Felchlin)', 'Idilio (Felchlin)', 'Idilio (Felchlin)', 'Idilio (Felchlin)', 'Idilio (Felchlin)', 'Idilio (Felchlin)', 'Indah', 'Indaphoria', 'Indaphoria', 'Indi', 'iQ Chocolate', 'iQ Chocolate', 'Isidro', 'Isidro', 'Isidro', 'Isidro', 'Izard', 'Izard', 'Jacque Torres', 'Jordis', 'Just Good Chocolate', 'Just Good Chocolate', 'Just Good Chocolate', 'Kah Kow', 'Kah Kow', 'Kah Kow', 'Kah Kow', 'Kakao', 'Kakao', 'Kallari (Ecuatoriana)', 'Kallari (Ecuatoriana)', 'Kallari (Ecuatoriana)', 'Kallari (Ecuatoriana)', 'Kallari (Ecuatoriana)', 'Kallari (Ecuatoriana)', 'Kallari (Ecuatoriana)', 'Kallari (Ecuatoriana)', 'Kaoka (Cemoi)', 'Kaoka (Cemoi)', 'Kerchner', \"Ki' Xocolatl\", 'Kiskadee', 'Kto', 'Kto', 'Kto', 'Kto', 'Kto', 'Kto', 'Kto', \"K'ul\", \"K'ul\", \"K'ul\", \"K'ul\", 'Kyya', 'Kyya', 'Kyya', 'Kyya', 'L.A. Burdick (Felchlin)', 'L.A. Burdick (Felchlin)', 'L.A. Burdick (Felchlin)', 'L.A. Burdick (Felchlin)', 'L.A. Burdick (Felchlin)', 'L.A. Burdick (Felchlin)', 'L.A. Burdick (Felchlin)', 'L.A. Burdick (Felchlin)', 'L.A. Burdick (Felchlin)', 'La Chocolaterie Nanairo', 'La Chocolaterie Nanairo', 'La Chocolaterie Nanairo', 'La Chocolaterie Nanairo', 'La Maison du Chocolat (Valrhona)', 'La Maison du Chocolat (Valrhona)', 'La Maison du Chocolat (Valrhona)', 'La Maison du Chocolat (Valrhona)', 'La Maison du Chocolat (Valrhona)', 'La Maison du Chocolat (Valrhona)', 'La Maison du Chocolat (Valrhona)', 'La Maison du Chocolat (Valrhona)', 'La Maison du Chocolat (Valrhona)', 'La Maison du Chocolat (Valrhona)', 'La Oroquidea', 'La Pepa de Oro', 'Laia aka Chat-Noir', 'Laia aka Chat-Noir', 'Laia aka Chat-Noir', 'Laia aka Chat-Noir', 'Laia aka Chat-Noir', 'Laia aka Chat-Noir', 'Laia aka Chat-Noir', 'Laia aka Chat-Noir', 'Laia aka Chat-Noir', 'Laia aka Chat-Noir', 'Lajedo do Ouro', 'Lake Champlain (Callebaut)', \"L'Amourette\", \"L'Amourette\", \"L'Amourette\", \"L'Amourette\", 'Letterpress', 'Letterpress', 'Letterpress', 'Letterpress', 'Letterpress', 'Letterpress', 'Letterpress', 'Letterpress', 'Letterpress', 'Levy', 'Lilla', 'Lillie Belle', 'Lillie Belle', 'Lillie Belle', 'Lillie Belle', 'Lillie Belle', 'Lillie Belle', 'Lindt & Sprungli', 'Loiza', 'Lonohana', 'Lonohana', 'Lonohana', 'Lonohana', 'Lonohana', 'Lonohana', 'Love Bar', 'Luker', 'Luker', 'Luker', 'Luker', 'Machu Picchu Trading Co.', 'Machu Picchu Trading Co.', 'Madecasse (Cinagra)', 'Madecasse (Cinagra)', 'Madecasse (Cinagra)', 'Madecasse (Cinagra)', 'Madre', 'Madre', 'Madre', 'Madre', 'Madre', 'Madre', 'Madre', 'Madre', 'Madre', 'Madre', 'Madre', 'Maglio', 'Maglio', 'Maglio', 'Maglio', 'Majani', 'Malagasy (Chocolaterie Robert)', 'Malagasy (Chocolaterie Robert)', 'Malagos', 'Malie Kai (Guittard)', 'Malie Kai (Guittard)', 'Malmo', 'Mana', 'Mana', 'Mana', 'Mana', 'Manifesto Cacao', 'Manoa', 'Manoa', 'Manoa', 'Manoa', 'Manoa', 'Manoa', 'Manoa', 'Manufaktura Czekolady', 'Manufaktura Czekolady', 'Manufaktura Czekolady', 'Manufaktura Czekolady', 'Manufaktura Czekolady', 'Manufaktura Czekolady', 'Manufaktura Czekolady', 'Map Chocolate', 'Map Chocolate', 'Map Chocolate', 'Map Chocolate', 'Map Chocolate', 'Map Chocolate', 'Map Chocolate', 'Map Chocolate', 'Map Chocolate', 'Map Chocolate', 'Marana', 'Marana', 'Marana', \"Marigold's Finest\", 'Marou', 'Marou', 'Marou', 'Marou', 'Marou', 'Marou', 'Marou', 'Marou', 'Marou', 'Marou', 'Mars', 'Mars', 'Mars', 'Mars', 'Marsatta', 'Marsatta', 'Martin Mayer', 'Martin Mayer', 'Martin Mayer', 'Mast Brothers', 'Mast Brothers', 'Mast Brothers', 'Mast Brothers', 'Mast Brothers', 'Mast Brothers', 'Mast Brothers', 'Mast Brothers', 'Mast Brothers', 'Mast Brothers', 'Mast Brothers', 'Mast Brothers', 'Mast Brothers', 'Mast Brothers', 'Mast Brothers', 'Mast Brothers', 'Mast Brothers', 'Mast Brothers', 'Matale', 'Matale', 'Matale', 'Matale', 'Maverick', 'Maverick', 'Maverick', 'Maverick', 'Mayacama', 'Meadowlands', 'Meadowlands', 'Meadowlands', 'Meadowlands', 'Meadowlands', 'Menakao (aka Cinagra)', 'Menakao (aka Cinagra)', 'Mesocacao', 'Mesocacao', 'Mesocacao', 'Mesocacao', 'Mesocacao', 'Mesocacao', 'Metiisto', 'Metiisto', 'Metropolitan', 'Michel Cluizel', 'Michel Cluizel', 'Michel Cluizel', 'Michel Cluizel', 'Michel Cluizel', 'Michel Cluizel', 'Michel Cluizel', 'Michel Cluizel', 'Michel Cluizel', 'Michel Cluizel', 'Middlebury', 'Middlebury', 'Middlebury', 'Middlebury', 'Middlebury', 'Middlebury', 'Middlebury', 'Middlebury', 'Middlebury', 'Middlebury', 'Middlebury', 'Millcreek Cacao Roasters', 'Millcreek Cacao Roasters', 'Mindo', 'Mindo', 'Minimal', 'Mission', 'Mission', 'Mita', 'Moho', 'Moho', 'Moho', 'Molucca', 'Molucca', 'Molucca', 'Momotombo', 'Momotombo', 'Momotombo', 'Monarque', 'Monsieur Truffe', 'Montecristi', 'Montecristi', 'Montecristi', 'Muchomas (Mesocacao)', 'Muchomas (Mesocacao)', 'Mutari', 'Mutari', 'Mutari', 'Mutari', 'Nahua', 'Nahua', 'Naive', 'Naive', 'Naive', 'Na�ve', 'Na�ve', 'Na�ve', 'Nanea', 'Nathan Miller', 'Nathan Miller', 'Nathan Miller', 'Nathan Miller', 'Neuhaus (Callebaut)', 'Neuhaus (Callebaut)', 'Neuhaus (Callebaut)', 'Neuhaus (Callebaut)', 'Neuhaus (Callebaut)', 'Neuhaus (Callebaut)', 'Nibble', 'Nibble', 'Nibble', 'Nibble', 'Night Owl', 'Night Owl', 'Noble Bean aka Jerjobo', 'Noble Bean aka Jerjobo', 'Noble Bean aka Jerjobo', \"Noir d' Ebine\", \"Noir d' Ebine\", 'Nova Monda', 'Nova Monda', 'Nova Monda', 'Nuance', 'Nuance', 'Nuance', 'Nuance', 'Nuance', 'Nugali', 'Oakland Chocolate Co.', 'Obolo', 'Obolo', 'Ocelot', 'Ocelot', 'Ocho', 'Ocho', 'Ocho', 'Ocho', 'Ocho', 'Ocho', 'Ohiyo', 'Ohiyo', 'Oialla by Bojessen (Malmo)', 'Olive and Sinclair', 'Olive and Sinclair', 'Olive and Sinclair', 'Olive and Sinclair', 'Olivia', 'Olivia', 'Olivia', 'Olivia', 'Omanhene', 'Omnom', 'Omnom', 'Omnom', 'organicfair', 'organicfair', 'organicfair', 'organicfair', 'organicfair', 'Original Beans (Felchlin)', 'Original Beans (Felchlin)', 'Original Beans (Felchlin)', 'Original Beans (Felchlin)', 'Original Beans (Felchlin)', 'Original Beans (Felchlin)', 'Original Hawaiin Chocolate Factory', 'Original Hawaiin Chocolate Factory', 'Orquidea', 'Orquidea', 'Pacari', 'Pacari', 'Pacari', 'Pacari', 'Pacari', 'Pacari', 'Pacari', 'Pacari', 'Pacari', 'Pacari', 'Pacari', 'Pacari', 'Pacari', 'Palette de Bine', 'Palette de Bine', 'Palette de Bine', 'Palette de Bine', 'Palette de Bine', 'Palette de Bine', 'Palette de Bine', 'Palette de Bine', 'Palette de Bine', 'Palette de Bine', 'Palette de Bine', 'Pangea', 'Park 75', 'Parliament', 'Parliament', 'Parliament', 'Parliament', 'Pascha', 'Pascha', 'Patric', 'Patric', 'Patric', 'Patric', 'Patric', 'Patric', 'Paul Young', 'Paul Young', 'Peppalo', 'Pierre Marcolini', 'Pierre Marcolini', 'Pierre Marcolini', 'Pierre Marcolini', 'Pierre Marcolini', 'Pierre Marcolini', 'Pierre Marcolini', 'Pierre Marcolini', 'Pierre Marcolini', 'Pierre Marcolini', 'Pierre Marcolini', 'Pierre Marcolini', 'Pierre Marcolini', 'Pierre Marcolini', 'Pinellas', 'Pitch Dark', 'Pitch Dark', 'Pitch Dark', 'Pitch Dark', 'Pitch Dark', 'Pitch Dark', 'Pitch Dark', 'Pitch Dark', 'Pitch Dark', 'Pomm (aka Dead Dog)', 'Pomm (aka Dead Dog)', 'Potomac', 'Potomac', 'Potomac', 'Potomac', 'Potomac', 'Potomac', 'Potomac', 'Pralus', 'Pralus', 'Pralus', 'Pralus', 'Pralus', 'Pralus', 'Pralus', 'Pralus', 'Pralus', 'Pralus', 'Pralus', 'Pralus', 'Pralus', 'Pralus', 'Pralus', 'Pralus', 'Pralus', 'Pralus', 'Pralus', 'Pralus', 'Pralus', 'Pralus', 'Pralus', 'Pralus', 'Pralus', 'Pump Street Bakery', 'Pump Street Bakery', 'Pump Street Bakery', 'Pump Street Bakery', 'Pump Street Bakery', 'Pump Street Bakery', 'Pump Street Bakery', 'Pump Street Bakery', 'Pura Delizia', 'Q Chocolate', 'Q Chocolate', 'Q Chocolate', 'Q Chocolate', 'Q Chocolate', 'Q Chocolate', 'Quetzalli (Wolter)', 'Quetzalli (Wolter)', 'Raaka', 'Raaka', 'Raaka', 'Raaka', 'Rain Republic', 'Rancho San Jacinto', 'Ranger', 'Ranger', 'Ranger', 'Raoul Boulanger', 'Raw Cocoa', 'Republica del Cacao (aka Confecta)', 'Republica del Cacao (aka Confecta)', 'Republica del Cacao (aka Confecta)', 'Republica del Cacao (aka Confecta)', 'Republica del Cacao (aka Confecta)', 'Ritual', 'Ritual', 'Ritual', 'Ritual', 'Ritual', 'Ritual', 'Ritual', 'Ritual', 'Ritual', 'Roasting Masters', 'Roasting Masters', 'Roasting Masters', 'Robert (aka Chocolaterie Robert)', 'Robert (aka Chocolaterie Robert)', 'Rococo (Grenada Chocolate Co.)', 'Rogue', 'Rogue', 'Rogue', 'Rogue', 'Rogue', 'Rogue', 'Rogue', 'Rogue', 'Rogue', 'Rogue', 'Rogue', 'Rogue', 'Rogue', 'Rogue', 'Rogue', 'Rogue', 'Rozsavolgyi', 'Rozsavolgyi', 'Rozsavolgyi', 'Rozsavolgyi', 'Rozsavolgyi', 'Rozsavolgyi', 'Rozsavolgyi', 'S.A.I.D.', 'S.A.I.D.', 'S.A.I.D.', 'S.A.I.D.', 'S.A.I.D.', 'Sacred', 'Sacred', 'Salgado', 'Salgado', 'Salgado', 'Salgado', 'Santander (Compania Nacional)', 'Santander (Compania Nacional)', 'Santander (Compania Nacional)', 'Santander (Compania Nacional)', 'Santander (Compania Nacional)', 'Santome', 'Scharffen Berger', 'Scharffen Berger', 'Scharffen Berger', 'Scharffen Berger', 'Scharffen Berger', 'Scharffen Berger', 'Scharffen Berger', 'Scharffen Berger', 'Scharffen Berger', 'Scharffen Berger', 'Scharffen Berger', 'Scharffen Berger', 'Scharffen Berger', 'Scharffen Berger', 'Scharffen Berger', 'Scharffen Berger', 'Scharffen Berger', 'Seaforth', 'Seaforth', 'Shark Mountain', 'Shark Mountain', 'Shark Mountain', 'Shark Mountain', 'Shark Mountain', 'Shark Mountain', \"Shark's\", \"Shark's\", 'Shattel', 'Shattell', 'Sibu', 'Sibu', 'Sibu Sura', 'Silvio Bessone', 'Silvio Bessone', 'Silvio Bessone', 'Silvio Bessone', 'Sirene', 'Sirene', 'Sirene', 'Sirene', 'Sirene', 'Sirene', 'Sirene', 'Sirene', 'Sirene', 'Sirene', 'Sirene', 'Sjolinds', 'Sjolinds', 'Smooth Chocolator, The', 'Smooth Chocolator, The', 'Smooth Chocolator, The', 'Smooth Chocolator, The', 'Smooth Chocolator, The', 'Smooth Chocolator, The', 'Smooth Chocolator, The', 'Smooth Chocolator, The', 'Smooth Chocolator, The', 'Smooth Chocolator, The', 'Smooth Chocolator, The', 'Smooth Chocolator, The', 'Smooth Chocolator, The', 'Smooth Chocolator, The', 'Smooth Chocolator, The', 'Smooth Chocolator, The', 'Snake & Butterfly', 'Snake & Butterfly', 'Snake & Butterfly', 'Sol Cacao', 'Sol Cacao', 'Solkiki', 'Solkiki', 'Solomons Gold', 'Solomons Gold', 'Solstice', 'Solstice', 'Solstice', 'Solstice', 'Solstice', 'Solstice', 'Soma', 'Soma', 'Soma', 'Soma', 'Soma', 'Soma', 'Soma', 'Soma', 'Soma', 'Soma', 'Soma', 'Soma', 'Soma', 'Soma', 'Soma', 'Soma', 'Soma', 'Soma', 'Soma', 'Soma', 'Soma', 'Soma', 'Soma', 'Soma', 'Soma', 'Soma', 'Soma', 'Soma', 'Soma', 'Soma', 'Soma', 'Soma', 'Soma', 'Soma', 'Soma', 'Soma', 'Soma', 'Soma', 'Soma', 'Soma', 'Soma', 'Soma', 'Soma', 'Soma', 'Soma', 'Soma', 'Soma', 'Somerville', 'Somerville', 'Soul', 'Soul', 'Soul', 'Soul', 'Soul', 'Soul', 'Spagnvola', 'Spagnvola', 'Spagnvola', 'Spencer', 'Spencer', 'Spencer', 'Spencer', 'Spencer', 'Spencer', 'Spencer', 'Sprungli (Felchlin)', 'SRSLY', 'SRSLY', 'Starchild', 'Starchild', 'Starchild', 'Starchild', 'Starchild', 'Stella (aka Bernrain)', 'Stella (aka Bernrain)', 'Stone Grindz', 'Stone Grindz', 'StRita Supreme', 'StRita Supreme', 'StRita Supreme', 'Sublime Origins', 'Sublime Origins', 'Summerbird', 'Summerbird', 'Suruca Chocolate', 'Suruca Chocolate', 'Svenska Kakaobolaget', 'Szanto Tibor', 'Szanto Tibor', 'Szanto Tibor', 'Szanto Tibor', 'Szanto Tibor', 'Szanto Tibor', 'Szanto Tibor', 'Szanto Tibor', 'Szanto Tibor', 'Szanto Tibor', 'Szanto Tibor', 'Szanto Tibor', 'Szanto Tibor', 'Szanto Tibor', 'Szanto Tibor', 'Tabal', 'Tabal', 'Tabal', 'Tabal', 'Tablette (aka Vanillabeans)', 'Tablette (aka Vanillabeans)', 'Tablette (aka Vanillabeans)', 'Tablette (aka Vanillabeans)', 'Tan Ban Skrati', 'Taza', 'Taza', 'Taza', 'Taza', 'TCHO', 'TCHO', 'TCHO', 'TCHO', 'TCHO', 'TCHO', 'TCHO', 'TCHO', 'Tejas', 'Tejas', 'Tejas', 'Tejas', 'Tejas', 'Tejas', 'Tejas', 'Tejas', 'Tejas', 'Tejas', 'Tejas', 'Tejas', 'Tejas', 'Tejas', 'Terroir', 'Terroir', 'Terroir', 'Terroir', 'Terroir', 'Terroir', 'Terroir', 'Terroir', 'Terroir', 'The Barn', 'Theo', 'Theo', 'Theo', 'Theo', 'Theo', 'Theo', 'Theobroma', 'Timo A. Meyer', \"To'ak (Ecuatoriana)\", 'Tobago Estate (Pralus)', 'Tocoti', 'Tocoti', 'Tocoti', 'Treehouse', 'Tsara (Cinagra)', 'twenty-four blackbirds', 'twenty-four blackbirds', 'twenty-four blackbirds', 'twenty-four blackbirds', 'twenty-four blackbirds', 'twenty-four blackbirds', 'Two Ravens', 'Un Dimanche A Paris', 'Undone', 'Undone', 'Upchurch', 'Upchurch', 'Urzi', 'Valrhona', 'Valrhona', 'Valrhona', 'Valrhona', 'Valrhona', 'Valrhona', 'Valrhona', 'Valrhona', 'Valrhona', 'Valrhona', 'Valrhona', 'Valrhona', 'Valrhona', 'Valrhona', 'Valrhona', 'Valrhona', 'Valrhona', 'Valrhona', 'Valrhona', 'Valrhona', 'Valrhona', 'Vanleer (Barry Callebaut)', 'Vanleer (Barry Callebaut)', 'Vao Vao (Chocolaterie Robert)', 'Vao Vao (Chocolaterie Robert)', 'Vao Vao (Chocolaterie Robert)', 'Vao Vao (Chocolaterie Robert)', 'Vao Vao (Chocolaterie Robert)', 'Vao Vao (Chocolaterie Robert)', 'Vicuna', 'Vicuna', 'Videri', 'Videri', 'Videri', 'Videri', 'Videri', 'Vietcacao (A. Morin)', 'Vintage Plantations', 'Vintage Plantations (Tulicorp)', 'Vintage Plantations (Tulicorp)', 'Vintage Plantations (Tulicorp)', 'Vintage Plantations (Tulicorp)', 'Violet Sky', 'Violet Sky', 'Violet Sky', 'Violet Sky', 'Violet Sky', 'Vivra', 'Vivra', 'Vivra', 'Wellington Chocolate Factory', 'Wellington Chocolate Factory', 'Whittakers', \"Wilkie's Organic\", \"Wilkie's Organic\", \"Wilkie's Organic\", \"Wilkie's Organic\", \"Willie's Cacao\", \"Willie's Cacao\", \"Willie's Cacao\", \"Willie's Cacao\", \"Willie's Cacao\", \"Willie's Cacao\", \"Willie's Cacao\", \"Willie's Cacao\", 'Wm', 'Wm', 'Wm', 'Woodblock', 'Woodblock', 'Woodblock', 'Woodblock', 'Woodblock', 'Woodblock', 'Woodblock', 'Woodblock', 'Xocolat', 'Xocolla', 'Xocolla', \"Zak's\", \"Zak's\", \"Zak's\", \"Zak's\", \"Zak's\", \"Zak's\", 'Zart Pralinen', 'Zart Pralinen', 'Zart Pralinen', 'Zart Pralinen', 'Zart Pralinen', 'Zart Pralinen', 'Zokoko', 'Zokoko', 'Zokoko', 'Zokoko', 'Zokoko', 'Zotter', 'Zotter', 'Zotter', 'Zotter', 'Zotter', 'Zotter', 'Zotter', 'Zotter', 'Zotter', 'Zotter', 'Zotter', 'Zotter', 'Zotter', 'Zotter', 'Zotter', 'Zotter', 'Zotter']\n"
     ]
    }
   ],
   "source": [
    "print(company_name)"
   ]
  },
  {
   "cell_type": "code",
   "execution_count": 29,
   "metadata": {},
   "outputs": [],
   "source": [
    "#create a dataframe with two columns[company_name and rating]\n",
    "\n",
    "df=pd.DataFrame({'Company_name':company_name,'Ratings':ratings})"
   ]
  },
  {
   "cell_type": "code",
   "execution_count": 31,
   "metadata": {},
   "outputs": [
    {
     "data": {
      "text/html": [
       "<div>\n",
       "<style>\n",
       "    .dataframe thead tr:only-child th {\n",
       "        text-align: right;\n",
       "    }\n",
       "\n",
       "    .dataframe thead th {\n",
       "        text-align: left;\n",
       "    }\n",
       "\n",
       "    .dataframe tbody tr th {\n",
       "        vertical-align: top;\n",
       "    }\n",
       "</style>\n",
       "<table border=\"1\" class=\"dataframe\">\n",
       "  <thead>\n",
       "    <tr style=\"text-align: right;\">\n",
       "      <th></th>\n",
       "      <th>Company_name</th>\n",
       "      <th>Ratings</th>\n",
       "    </tr>\n",
       "  </thead>\n",
       "  <tbody>\n",
       "    <tr>\n",
       "      <th>0</th>\n",
       "      <td>A. Morin</td>\n",
       "      <td>3.75</td>\n",
       "    </tr>\n",
       "    <tr>\n",
       "      <th>1</th>\n",
       "      <td>A. Morin</td>\n",
       "      <td>2.75</td>\n",
       "    </tr>\n",
       "    <tr>\n",
       "      <th>2</th>\n",
       "      <td>A. Morin</td>\n",
       "      <td>3.00</td>\n",
       "    </tr>\n",
       "    <tr>\n",
       "      <th>3</th>\n",
       "      <td>A. Morin</td>\n",
       "      <td>3.50</td>\n",
       "    </tr>\n",
       "    <tr>\n",
       "      <th>4</th>\n",
       "      <td>A. Morin</td>\n",
       "      <td>3.50</td>\n",
       "    </tr>\n",
       "    <tr>\n",
       "      <th>5</th>\n",
       "      <td>A. Morin</td>\n",
       "      <td>2.75</td>\n",
       "    </tr>\n",
       "    <tr>\n",
       "      <th>6</th>\n",
       "      <td>A. Morin</td>\n",
       "      <td>3.50</td>\n",
       "    </tr>\n",
       "  </tbody>\n",
       "</table>\n",
       "</div>"
      ],
      "text/plain": [
       "  Company_name  Ratings\n",
       "0     A. Morin     3.75\n",
       "1     A. Morin     2.75\n",
       "2     A. Morin     3.00\n",
       "3     A. Morin     3.50\n",
       "4     A. Morin     3.50\n",
       "5     A. Morin     2.75\n",
       "6     A. Morin     3.50"
      ]
     },
     "execution_count": 31,
     "metadata": {},
     "output_type": "execute_result"
    }
   ],
   "source": [
    "df.head(7)"
   ]
  },
  {
   "cell_type": "code",
   "execution_count": 32,
   "metadata": {
    "collapsed": true
   },
   "outputs": [],
   "source": [
    "avg_rating=df.groupby('Company_name').Ratings.mean()"
   ]
  },
  {
   "cell_type": "code",
   "execution_count": 35,
   "metadata": {
    "collapsed": true
   },
   "outputs": [],
   "source": [
    "top_ten=avg_rating.nlargest(10)"
   ]
  },
  {
   "cell_type": "code",
   "execution_count": 36,
   "metadata": {},
   "outputs": [
    {
     "data": {
      "text/plain": [
       "Company_name\n",
       "Tobago Estate (Pralus)                  4.000000\n",
       "Heirloom Cacao Preservation (Zokoko)    3.875000\n",
       "Ocelot                                  3.875000\n",
       "Amedei                                  3.846154\n",
       "Matale                                  3.812500\n",
       "Patric                                  3.791667\n",
       "Idilio (Felchlin)                       3.775000\n",
       "Acalli                                  3.750000\n",
       "Chocola'te                              3.750000\n",
       "Christopher Morel (Felchlin)            3.750000\n",
       "Name: Ratings, dtype: float64"
      ]
     },
     "execution_count": 36,
     "metadata": {},
     "output_type": "execute_result"
    }
   ],
   "source": [
    "top_ten"
   ]
  },
  {
   "cell_type": "markdown",
   "metadata": {},
   "source": [
    "***Is more cacao better?***"
   ]
  },
  {
   "cell_type": "code",
   "execution_count": 37,
   "metadata": {
    "collapsed": true
   },
   "outputs": [],
   "source": [
    "coco=soup.select('.CocoaPercent')\n",
    "coco_percent=[]\n",
    "for caco in coco[1:]:\n",
    "    coco_percent.append(int(float(caco.string[:-1])))"
   ]
  },
  {
   "cell_type": "code",
   "execution_count": 38,
   "metadata": {},
   "outputs": [
    {
     "name": "stdout",
     "output_type": "stream",
     "text": [
      "[63, 70, 70, 70, 70, 70, 70, 70, 70, 70, 70, 70, 70, 70, 70, 70, 70, 70, 70, 70, 63, 70, 63, 70, 70, 60, 80, 88, 72, 55, 70, 70, 75, 75, 75, 65, 75, 75, 75, 75, 70, 70, 70, 70, 60, 60, 60, 60, 60, 60, 60, 80, 60, 60, 70, 70, 70, 70, 70, 70, 70, 70, 70, 70, 70, 85, 85, 72, 73, 64, 66, 75, 63, 70, 68, 70, 70, 75, 70, 70, 70, 70, 70, 70, 70, 63, 70, 66, 75, 85, 50, 75, 60, 75, 75, 75, 72, 75, 75, 70, 70, 73, 70, 70, 70, 70, 70, 70, 70, 70, 70, 73, 70, 68, 70, 70, 70, 70, 75, 70, 75, 72, 72, 72, 72, 100, 72, 72, 72, 72, 75, 72, 72, 80, 75, 72, 72, 72, 68, 72, 70, 77, 75, 70, 80, 70, 70, 70, 70, 70, 70, 70, 70, 70, 70, 70, 80, 65, 70, 65, 73, 72, 80, 70, 70, 90, 64, 64, 64, 71, 70, 70, 70, 83, 78, 83, 74, 74, 74, 73, 72, 72, 55, 64, 88, 72, 72, 70, 74, 64, 72, 76, 76, 78, 86, 72, 75, 70, 65, 70, 78, 75, 65, 75, 65, 71, 75, 68, 70, 70, 70, 70, 70, 82, 72, 82, 75, 75, 75, 70, 70, 75, 75, 75, 65, 75, 75, 75, 75, 75, 75, 75, 75, 75, 75, 75, 75, 75, 75, 75, 75, 75, 75, 75, 75, 100, 75, 75, 77, 100, 70, 70, 70, 70, 68, 70, 70, 72, 70, 75, 85, 60, 80, 70, 80, 80, 60, 70, 72, 70, 72, 68, 70, 68, 72, 72, 72, 72, 60, 70, 75, 75, 75, 75, 65, 70, 75, 72, 66, 77, 75, 75, 74, 75, 70, 74, 71, 74, 72, 64, 70, 69, 70, 70, 72, 72, 66, 65, 70, 71, 71, 71, 71, 71, 77, 70, 70, 70, 70, 70, 70, 63, 71, 82, 91, 60, 70, 75, 72, 70, 100, 80, 78, 70, 75, 73, 70, 75, 70, 77, 77, 77, 55, 55, 55, 70, 70, 72, 72, 72, 72, 80, 65, 65, 65, 65, 65, 72, 72, 70, 72, 72, 76, 70, 70, 73, 70, 70, 72, 70, 72, 70, 70, 70, 70, 72, 70, 70, 55, 75, 70, 70, 70, 75, 82, 70, 70, 65, 65, 80, 70, 68, 90, 80, 70, 70, 60, 75, 80, 70, 80, 74, 75, 68, 80, 69, 80, 70, 82, 68, 72, 70, 77, 65, 71, 71, 60, 75, 71, 71, 71, 70, 65, 75, 80, 70, 70, 80, 70, 42, 75, 68, 61, 77, 73, 80, 75, 100, 73, 75, 70, 80, 72, 70, 88, 76, 78, 65, 85, 100, 72, 70, 72, 70, 72, 72, 72, 72, 72, 62, 70, 70, 72, 72, 72, 70, 70, 83, 75, 65, 67, 64, 75, 85, 73, 70, 70, 72, 70, 70, 70, 70, 70, 70, 70, 70, 70, 70, 70, 70, 70, 70, 70, 70, 70, 70, 70, 70, 82, 75, 70, 70, 70, 70, 60, 75, 60, 72, 72, 70, 75, 70, 70, 70, 70, 70, 70, 70, 58, 72, 65, 70, 70, 66, 64, 71, 60, 64, 64, 64, 66, 72, 80, 77, 77, 70, 78, 70, 74, 70, 76, 75, 72, 80, 72, 75, 74, 70, 85, 72, 72, 72, 70, 88, 70, 70, 70, 100, 70, 70, 70, 70, 70, 70, 78, 70, 70, 75, 60, 70, 70, 70, 70, 70, 70, 70, 70, 75, 70, 80, 77, 70, 70, 76, 72, 72, 65, 72, 71, 71, 70, 72, 70, 70, 70, 82, 70, 70, 70, 70, 70, 70, 70, 70, 70, 70, 72, 68, 75, 71, 70, 60, 70, 74, 58, 61, 70, 60, 70, 79, 78, 75, 80, 70, 80, 74, 70, 65, 81, 74, 72, 55, 55, 70, 62, 62, 80, 80, 80, 75, 76, 76, 76, 58, 62, 74, 64, 65, 72, 68, 65, 80, 70, 85, 72, 70, 80, 70, 75, 67, 70, 70, 70, 60, 70, 75, 80, 60, 65, 70, 73, 80, 68, 66, 70, 61, 81, 70, 65, 70, 70, 70, 70, 72, 72, 70, 70, 69, 69, 74, 69, 69, 74, 70, 72, 70, 74, 72, 74, 76, 70, 80, 70, 70, 65, 70, 60, 85, 70, 70, 70, 70, 70, 70, 70, 70, 70, 70, 74, 74, 70, 76, 70, 75, 70, 66, 70, 85, 65, 70, 70, 80, 75, 70, 66, 77, 77, 77, 72, 70, 70, 82, 60, 71, 64, 64, 64, 76, 64, 70, 65, 65, 65, 65, 72, 61, 72, 65, 55, 91, 70, 65, 64, 65, 72, 65, 65, 65, 65, 61, 61, 80, 74, 75, 70, 65, 70, 80, 66, 100, 77, 55, 70, 70, 85, 67, 77, 74, 64, 70, 74, 67, 67, 67, 67, 72, 70, 77, 68, 72, 57, 74, 70, 74, 70, 73, 70, 70, 72, 75, 66, 80, 80, 72, 58, 58, 70, 70, 70, 70, 70, 70, 70, 70, 75, 72, 70, 70, 100, 75, 80, 90, 72, 82, 100, 100, 100, 66, 80, 65, 65, 70, 70, 70, 72, 80, 75, 72, 70, 70, 70, 70, 70, 70, 70, 70, 72, 72, 72, 72, 72, 74, 72, 70, 72, 72, 61, 70, 70, 77, 72, 72, 72, 72, 72, 72, 70, 70, 71, 63, 70, 70, 70, 70, 82, 55, 62, 64, 65, 70, 70, 75, 85, 85, 85, 75, 85, 70, 80, 70, 72, 60, 72, 72, 72, 72, 90, 72, 72, 70, 70, 70, 70, 72, 72, 72, 72, 74, 70, 68, 74, 75, 74, 71, 64, 68, 70, 70, 70, 70, 74, 60, 56, 66, 68, 68, 69, 60, 60, 74, 72, 60, 75, 75, 75, 75, 75, 75, 75, 75, 70, 68, 70, 75, 80, 75, 75, 72, 70, 70, 70, 70, 70, 70, 70, 70, 70, 71, 70, 65, 68, 68, 75, 74, 68, 85, 65, 70, 65, 75, 71, 72, 70, 75, 46, 60, 58, 65, 70, 55, 67, 70, 63, 75, 73, 70, 70, 70, 70, 70, 70, 70, 70, 70, 72, 75, 70, 70, 70, 70, 75, 73, 65, 55, 55, 70, 74, 74, 74, 74, 70, 72, 72, 72, 72, 72, 72, 72, 70, 70, 70, 85, 70, 70, 70, 75, 70, 62, 70, 70, 70, 68, 75, 72, 78, 70, 70, 70, 75, 85, 68, 70, 75, 76, 72, 70, 78, 80, 74, 65, 65, 65, 65, 74, 89, 76, 82, 74, 76, 74, 75, 73, 72, 73, 72, 76, 70, 81, 70, 71, 75, 73, 74, 81, 75, 70, 72, 68, 74, 70, 70, 70, 82, 63, 72, 70, 70, 70, 70, 70, 80, 72, 80, 70, 80, 70, 70, 80, 70, 72, 70, 66, 66, 67, 60, 85, 70, 67, 65, 64, 99, 80, 70, 75, 75, 75, 70, 75, 80, 65, 75, 70, 70, 70, 67, 77, 70, 75, 70, 65, 73, 72, 67, 70, 70, 70, 70, 70, 70, 72, 70, 70, 63, 85, 70, 80, 68, 71, 68, 80, 58, 70, 70, 78, 71, 70, 75, 70, 85, 72, 70, 73, 70, 70, 67, 73, 73, 75, 71, 72, 72, 72, 72, 75, 75, 75, 75, 75, 70, 70, 70, 75, 80, 70, 70, 70, 70, 70, 70, 70, 70, 70, 70, 75, 100, 70, 66, 70, 88, 74, 70, 70, 70, 72, 72, 67, 75, 76, 76, 85, 85, 80, 70, 70, 66, 74, 72, 72, 72, 72, 68, 80, 66, 70, 75, 68, 60, 60, 65, 72, 70, 70, 70, 70, 70, 85, 70, 70, 60, 65, 72, 100, 70, 70, 72, 70, 70, 72, 72, 72, 78, 75, 75, 70, 76, 65, 70, 70, 70, 70, 55, 70, 70, 75, 67, 70, 70, 67, 73, 64, 82, 70, 75, 75, 78, 85, 72, 72, 70, 72, 72, 85, 72, 72, 72, 80, 62, 80, 80, 80, 80, 73, 73, 73, 73, 76, 82, 70, 70, 70, 70, 70, 70, 82, 75, 75, 75, 75, 75, 100, 75, 75, 75, 75, 75, 75, 75, 75, 75, 75, 75, 75, 75, 75, 75, 80, 75, 75, 75, 77, 70, 74, 80, 75, 75, 72, 85, 73, 75, 85, 55, 80, 60, 65, 70, 74, 70, 75, 75, 85, 70, 75, 70, 80, 73, 75, 70, 75, 75, 75, 67, 75, 75, 85, 70, 75, 75, 75, 75, 75, 75, 70, 70, 70, 75, 68, 66, 75, 70, 75, 80, 70, 70, 75, 75, 75, 75, 75, 70, 70, 70, 70, 70, 84, 76, 72, 73, 71, 70, 77, 64, 100, 70, 72, 72, 83, 69, 70, 70, 70, 70, 75, 70, 53, 65, 70, 70, 78, 68, 68, 65, 68, 65, 72, 72, 72, 62, 75, 75, 82, 70, 68, 70, 62, 70, 70, 72, 73, 77, 74, 75, 72, 73, 73, 70, 75, 82, 70, 70, 67, 65, 60, 68, 73, 73, 73, 100, 100, 73, 73, 73, 67, 73, 73, 70, 72, 70, 70, 70, 70, 70, 67, 70, 65, 70, 67, 70, 72, 72, 65, 67, 70, 67, 68, 68, 70, 72, 68, 85, 70, 75, 70, 70, 70, 70, 70, 70, 62, 70, 70, 75, 70, 70, 70, 70, 75, 70, 70, 70, 80, 70, 70, 77, 70, 70, 70, 70, 70, 88, 70, 67, 70, 70, 70, 70, 70, 70, 70, 70, 70, 85, 70, 70, 64, 70, 70, 70, 70, 70, 70, 70, 70, 70, 70, 70, 70, 70, 70, 75, 75, 77, 80, 70, 80, 75, 70, 70, 70, 70, 70, 70, 72, 70, 70, 84, 70, 70, 70, 70, 70, 68, 72, 84, 70, 65, 70, 75, 67, 78, 61, 71, 70, 60, 70, 70, 88, 70, 70, 70, 70, 70, 70, 70, 70, 70, 70, 70, 70, 70, 70, 70, 70, 70, 70, 62, 60, 77, 70, 68, 87, 75, 70, 62, 99, 60, 68, 70, 70, 70, 70, 70, 70, 70, 70, 70, 70, 70, 70, 70, 70, 70, 80, 67, 70, 70, 70, 70, 70, 70, 70, 77, 67, 73, 70, 65, 65, 75, 84, 91, 75, 70, 72, 81, 70, 77, 72, 74, 72, 72, 75, 75, 75, 68, 75, 73, 60, 63, 74, 70, 72, 72, 65, 63, 70, 64, 69, 56, 64, 64, 66, 68, 72, 65, 64, 85, 85, 71, 64, 66, 70, 64, 64, 64, 72, 65, 72, 76, 80, 70, 68, 64, 70, 70, 90, 75, 75, 90, 70, 70, 75, 100, 90, 75, 65, 77, 77, 77, 77, 77, 70, 70, 70, 70, 70, 72, 75, 89, 75, 75, 70, 88, 100, 71, 72, 69, 70, 72, 74, 76, 75, 70, 70, 70, 70, 70, 70, 70, 70, 66, 70, 70, 70, 70, 70, 70, 70, 60, 70, 70, 85, 85, 70, 78, 78, 65, 68, 66, 72, 80, 72, 65, 70, 70, 62, 75, 75, 90, 70, 68, 58, 70, 65, 65, 62, 65]\n"
     ]
    }
   ],
   "source": [
    "print(coco_percent)"
   ]
  },
  {
   "cell_type": "code",
   "execution_count": 39,
   "metadata": {
    "collapsed": true
   },
   "outputs": [],
   "source": [
    "df['Cocoa_Percent']=coco_percent"
   ]
  },
  {
   "cell_type": "code",
   "execution_count": 40,
   "metadata": {},
   "outputs": [
    {
     "data": {
      "text/html": [
       "<div>\n",
       "<style>\n",
       "    .dataframe thead tr:only-child th {\n",
       "        text-align: right;\n",
       "    }\n",
       "\n",
       "    .dataframe thead th {\n",
       "        text-align: left;\n",
       "    }\n",
       "\n",
       "    .dataframe tbody tr th {\n",
       "        vertical-align: top;\n",
       "    }\n",
       "</style>\n",
       "<table border=\"1\" class=\"dataframe\">\n",
       "  <thead>\n",
       "    <tr style=\"text-align: right;\">\n",
       "      <th></th>\n",
       "      <th>Company_name</th>\n",
       "      <th>Ratings</th>\n",
       "      <th>Cocoa_Percent</th>\n",
       "    </tr>\n",
       "  </thead>\n",
       "  <tbody>\n",
       "    <tr>\n",
       "      <th>0</th>\n",
       "      <td>A. Morin</td>\n",
       "      <td>3.75</td>\n",
       "      <td>63</td>\n",
       "    </tr>\n",
       "    <tr>\n",
       "      <th>1</th>\n",
       "      <td>A. Morin</td>\n",
       "      <td>2.75</td>\n",
       "      <td>70</td>\n",
       "    </tr>\n",
       "    <tr>\n",
       "      <th>2</th>\n",
       "      <td>A. Morin</td>\n",
       "      <td>3.00</td>\n",
       "      <td>70</td>\n",
       "    </tr>\n",
       "    <tr>\n",
       "      <th>3</th>\n",
       "      <td>A. Morin</td>\n",
       "      <td>3.50</td>\n",
       "      <td>70</td>\n",
       "    </tr>\n",
       "    <tr>\n",
       "      <th>4</th>\n",
       "      <td>A. Morin</td>\n",
       "      <td>3.50</td>\n",
       "      <td>70</td>\n",
       "    </tr>\n",
       "  </tbody>\n",
       "</table>\n",
       "</div>"
      ],
      "text/plain": [
       "  Company_name  Ratings  Cocoa_Percent\n",
       "0     A. Morin     3.75             63\n",
       "1     A. Morin     2.75             70\n",
       "2     A. Morin     3.00             70\n",
       "3     A. Morin     3.50             70\n",
       "4     A. Morin     3.50             70"
      ]
     },
     "execution_count": 40,
     "metadata": {},
     "output_type": "execute_result"
    }
   ],
   "source": [
    "df.head(5)"
   ]
  },
  {
   "cell_type": "code",
   "execution_count": 44,
   "metadata": {},
   "outputs": [
    {
     "data": {
      "image/png": "[encoded data removed]",
      "text/plain": [
       "<matplotlib.figure.Figure at 0x2140d5c0c18>"
      ]
     },
     "metadata": {},
     "output_type": "display_data"
    }
   ],
   "source": [
    "plt.scatter(df.Cocoa_Percent, df.Ratings)\n",
    "z = np.polyfit(df.Cocoa_Percent, df.Ratings, 1)\n",
    "line_function = np.poly1d(z)\n",
    "plt.plot(df.Cocoa_Percent, line_function(df.Cocoa_Percent), \"r--\")\n",
    "plt.show()"
   ]
  }
 ],
 "metadata": {
  "kernelspec": {
   "display_name": "Python 3",
   "language": "python",
   "name": "python3"
  },
  "language_info": {
   "codemirror_mode": {
    "name": "ipython",
    "version": 3
   },
   "file_extension": ".py",
   "mimetype": "text/x-python",
   "name": "python",
   "nbconvert_exporter": "python",
   "pygments_lexer": "ipython3",
   "version": "3.6.1"
  }
 },
 "nbformat": 4,
 "nbformat_minor": 2
}
